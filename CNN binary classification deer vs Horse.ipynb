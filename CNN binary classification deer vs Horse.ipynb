{
 "cells": [
  {
   "cell_type": "code",
   "execution_count": 1,
   "metadata": {},
   "outputs": [],
   "source": [
    "import keras\n",
    "from keras.datasets import cifar10"
   ]
  },
  {
   "cell_type": "code",
   "execution_count": 2,
   "metadata": {},
   "outputs": [],
   "source": [
    "import pandas as pd\n",
    "import numpy as np\n",
    "import matplotlib.pyplot as plt"
   ]
  },
  {
   "cell_type": "code",
   "execution_count": 3,
   "metadata": {},
   "outputs": [],
   "source": [
    "from keras.models import Sequential \n",
    "from keras.layers import Dense\n",
    "from keras.layers import Dropout\n",
    "from keras.layers import Flatten\n",
    "from keras.layers.convolutional import Conv2D\n",
    "from keras.layers.convolutional import MaxPooling2D"
   ]
  },
  {
   "cell_type": "markdown",
   "metadata": {},
   "source": [
    "LOAD CIFAR-10 DATASET"
   ]
  },
  {
   "cell_type": "code",
   "execution_count": 4,
   "metadata": {},
   "outputs": [],
   "source": [
    "(X_train,y_train),(X_test,y_test)=cifar10.load_data()"
   ]
  },
  {
   "cell_type": "code",
   "execution_count": 5,
   "metadata": {},
   "outputs": [
    {
     "data": {
      "text/plain": [
       "(50000, 32, 32, 3)"
      ]
     },
     "execution_count": 5,
     "metadata": {},
     "output_type": "execute_result"
    }
   ],
   "source": [
    "X_train.shape"
   ]
  },
  {
   "cell_type": "code",
   "execution_count": 6,
   "metadata": {},
   "outputs": [
    {
     "data": {
      "text/plain": [
       "(50000, 1)"
      ]
     },
     "execution_count": 6,
     "metadata": {},
     "output_type": "execute_result"
    }
   ],
   "source": [
    "y_train.shape"
   ]
  },
  {
   "cell_type": "code",
   "execution_count": 7,
   "metadata": {},
   "outputs": [
    {
     "data": {
      "text/plain": [
       "(10000, 32, 32, 3)"
      ]
     },
     "execution_count": 7,
     "metadata": {},
     "output_type": "execute_result"
    }
   ],
   "source": [
    "X_test.shape"
   ]
  },
  {
   "cell_type": "code",
   "execution_count": 8,
   "metadata": {},
   "outputs": [
    {
     "data": {
      "text/plain": [
       "(10000, 1)"
      ]
     },
     "execution_count": 8,
     "metadata": {},
     "output_type": "execute_result"
    }
   ],
   "source": [
    "y_test.shape"
   ]
  },
  {
   "cell_type": "markdown",
   "metadata": {},
   "source": [
    "SAMPLE ONLY DEER AND HORSE IMAGES"
   ]
  },
  {
   "cell_type": "code",
   "execution_count": 9,
   "metadata": {},
   "outputs": [],
   "source": [
    "#class_names = ['airplane', 'automobile', 'bird', 'cat', 'deer', 'dog', 'frog', 'horse', 'ship', 'truck']\n",
    "# 4 is DEER, 7 is HORSE\n",
    "\n",
    "cifar_train_index=[]\n",
    "for i in range(50000):\n",
    "    if y_train[i][0] in [4,7]:\n",
    "        cifar_train_index.append(i)\n",
    "cifar_test_index=[]\n",
    "for i in range(10000):\n",
    "    if y_test[i][0] in [4,7]:\n",
    "        cifar_test_index.append(i)"
   ]
  },
  {
   "cell_type": "code",
   "execution_count": 10,
   "metadata": {},
   "outputs": [],
   "source": [
    "cifar_deer_horse_train=X_train[np.array(cifar_train_index)]\n",
    "cifar_deer_horse_test=X_test[np.array(cifar_test_index)]\n",
    "\n",
    "cifar_deer_horse_train_labels=y_train[np.array(cifar_train_index)]\n",
    "cifar_deer_horse_test_labels=y_test[np.array(cifar_test_index)]"
   ]
  },
  {
   "cell_type": "code",
   "execution_count": 11,
   "metadata": {},
   "outputs": [
    {
     "data": {
      "text/plain": [
       "(10000, 32, 32, 3)"
      ]
     },
     "execution_count": 11,
     "metadata": {},
     "output_type": "execute_result"
    }
   ],
   "source": [
    "cifar_deer_horse_train.shape"
   ]
  },
  {
   "cell_type": "code",
   "execution_count": 12,
   "metadata": {},
   "outputs": [
    {
     "data": {
      "text/plain": [
       "(2000, 32, 32, 3)"
      ]
     },
     "execution_count": 12,
     "metadata": {},
     "output_type": "execute_result"
    }
   ],
   "source": [
    "cifar_deer_horse_test.shape"
   ]
  },
  {
   "cell_type": "code",
   "execution_count": 13,
   "metadata": {},
   "outputs": [
    {
     "data": {
      "text/plain": [
       "(10000, 1)"
      ]
     },
     "execution_count": 13,
     "metadata": {},
     "output_type": "execute_result"
    }
   ],
   "source": [
    "cifar_deer_horse_train_labels.shape"
   ]
  },
  {
   "cell_type": "code",
   "execution_count": 14,
   "metadata": {},
   "outputs": [
    {
     "data": {
      "text/plain": [
       "(2000, 1)"
      ]
     },
     "execution_count": 14,
     "metadata": {},
     "output_type": "execute_result"
    }
   ],
   "source": [
    "cifar_deer_horse_test_labels.shape"
   ]
  },
  {
   "cell_type": "code",
   "execution_count": 15,
   "metadata": {},
   "outputs": [
    {
     "name": "stdout",
     "output_type": "stream",
     "text": [
      "[4 7]\n",
      "[4 7]\n"
     ]
    }
   ],
   "source": [
    "print(np.unique(cifar_deer_horse_train_labels))\n",
    "print(np.unique(cifar_deer_horse_test_labels))"
   ]
  },
  {
   "cell_type": "markdown",
   "metadata": {},
   "source": [
    "READ AND SPLIT BETWEEN TRAIN AND TEST"
   ]
  },
  {
   "cell_type": "code",
   "execution_count": 16,
   "metadata": {},
   "outputs": [],
   "source": [
    "X_train=cifar_deer_horse_train\n",
    "y_train=cifar_deer_horse_train_labels\n",
    "X_test=cifar_deer_horse_test\n",
    "y_test=cifar_deer_horse_test_labels\n",
    "num_classes=2"
   ]
  },
  {
   "cell_type": "code",
   "execution_count": 17,
   "metadata": {},
   "outputs": [
    {
     "data": {
      "text/plain": [
       "array([[4],\n",
       "       [7],\n",
       "       [4],\n",
       "       ...,\n",
       "       [4],\n",
       "       [7],\n",
       "       [4]], dtype=uint8)"
      ]
     },
     "execution_count": 17,
     "metadata": {},
     "output_type": "execute_result"
    }
   ],
   "source": [
    "y_train"
   ]
  },
  {
   "cell_type": "markdown",
   "metadata": {},
   "source": [
    "CHECK AN IMAGE FROM DATASET"
   ]
  },
  {
   "cell_type": "code",
   "execution_count": 18,
   "metadata": {},
   "outputs": [],
   "source": [
    "ind=100\n",
    "if y_train[ind]==4:\n",
    "    label='Deer'\n",
    "else:\n",
    "    if y_train[ind]==7:\n",
    "        label='Horse'"
   ]
  },
  {
   "cell_type": "code",
   "execution_count": 19,
   "metadata": {},
   "outputs": [
    {
     "data": {
      "image/png": "[encoded data removed]",
      "text/plain": [
       "<Figure size 432x288 with 1 Axes>"
      ]
     },
     "metadata": {
      "needs_background": "light"
     },
     "output_type": "display_data"
    }
   ],
   "source": [
    "sample_image=X_train[ind]\n",
    "pixels=sample_image.reshape((32,32,3))\n",
    "plt.imshow(pixels)\n",
    "plt.title(label)\n",
    "plt.show()"
   ]
  },
  {
   "cell_type": "code",
   "execution_count": 20,
   "metadata": {},
   "outputs": [
    {
     "data": {
      "image/png": "[encoded data removed]",
      "text/plain": [
       "<Figure size 432x288 with 1 Axes>"
      ]
     },
     "metadata": {
      "needs_background": "light"
     },
     "output_type": "display_data"
    }
   ],
   "source": [
    "sample_image1=X_test[ind]\n",
    "pixels=sample_image1.reshape((32,32,3))\n",
    "plt.imshow(pixels)\n",
    "plt.title(label)\n",
    "plt.show()"
   ]
  },
  {
   "cell_type": "markdown",
   "metadata": {},
   "source": [
    "PREPROCESS INPUT IMAGES"
   ]
  },
  {
   "cell_type": "code",
   "execution_count": 21,
   "metadata": {},
   "outputs": [],
   "source": [
    "X_train=X_train.astype('float32')\n",
    "X_test=X_test.astype('float32')\n",
    "X_train/=255\n",
    "X_test/=255"
   ]
  },
  {
   "cell_type": "code",
   "execution_count": 22,
   "metadata": {},
   "outputs": [
    {
     "name": "stdout",
     "output_type": "stream",
     "text": [
      "10000 train samples\n",
      "2000 test samples\n"
     ]
    }
   ],
   "source": [
    "print(X_train.shape[0],'train samples')\n",
    "print(X_test.shape[0],'test samples')"
   ]
  },
  {
   "cell_type": "code",
   "execution_count": 23,
   "metadata": {},
   "outputs": [],
   "source": [
    "#Convert the labels\n",
    "for ind in range(X_train.shape[0]):\n",
    "    if y_train[ind]==4:\n",
    "        y_train[ind]=0 #Deer\n",
    "    else:\n",
    "        y_train[ind]=1 #Horse\n",
    "for ind in range(X_test.shape[0]):\n",
    "    if y_test[ind]==4:\n",
    "        y_test[ind]=0 #Deer\n",
    "    else:\n",
    "        y_test[ind]=1 #Horse"
   ]
  },
  {
   "cell_type": "code",
   "execution_count": 24,
   "metadata": {},
   "outputs": [],
   "source": [
    "#Convert class labels to one-hot encoded vector\n",
    "y_train=keras.utils.to_categorical(y_train,num_classes)\n",
    "y_test=keras.utils.to_categorical(y_test,num_classes)"
   ]
  },
  {
   "cell_type": "code",
   "execution_count": 25,
   "metadata": {},
   "outputs": [
    {
     "data": {
      "text/plain": [
       "array([[1., 0.],\n",
       "       [0., 1.],\n",
       "       [1., 0.],\n",
       "       ...,\n",
       "       [1., 0.],\n",
       "       [1., 0.],\n",
       "       [1., 0.]], dtype=float32)"
      ]
     },
     "execution_count": 25,
     "metadata": {},
     "output_type": "execute_result"
    }
   ],
   "source": [
    "y_train[:-10]"
   ]
  },
  {
   "cell_type": "code",
   "execution_count": 26,
   "metadata": {},
   "outputs": [
    {
     "data": {
      "text/plain": [
       "(10000, 32, 32, 3)"
      ]
     },
     "execution_count": 26,
     "metadata": {},
     "output_type": "execute_result"
    }
   ],
   "source": [
    "X_train.shape"
   ]
  },
  {
   "cell_type": "code",
   "execution_count": 27,
   "metadata": {},
   "outputs": [
    {
     "data": {
      "text/plain": [
       "(32, 32, 3)"
      ]
     },
     "execution_count": 27,
     "metadata": {},
     "output_type": "execute_result"
    }
   ],
   "source": [
    "X_train[0,:].shape"
   ]
  },
  {
   "cell_type": "code",
   "execution_count": 28,
   "metadata": {},
   "outputs": [
    {
     "data": {
      "text/plain": [
       "(10000, 2)"
      ]
     },
     "execution_count": 28,
     "metadata": {},
     "output_type": "execute_result"
    }
   ],
   "source": [
    "y_train.shape"
   ]
  },
  {
   "cell_type": "markdown",
   "metadata": {},
   "source": [
    "BUILD THE CNN MODEL WITH KERAS"
   ]
  },
  {
   "cell_type": "code",
   "execution_count": 29,
   "metadata": {},
   "outputs": [],
   "source": [
    "#Parameters = [i × (f×f) × o] + o\n",
    "model=Sequential()\n",
    "model.add(Conv2D(32,(3,3),input_shape=(32,32,3),activation='relu',padding='same'))\n",
    "model.add(MaxPooling2D(pool_size=(2,2)))\n",
    "model.add(Conv2D(64,(3,3),activation='relu',padding='same'))\n",
    "model.add(MaxPooling2D(pool_size=(2,2)))\n",
    "model.add(Conv2D(128,(3,3),activation='relu',padding='same'))\n",
    "model.add(Flatten())\n",
    "model.add(Dense(512,activation='relu'))\n",
    "model.add(Dropout(0.2))\n",
    "model.add(Dense(256,activation='relu'))\n",
    "model.add(Dropout(0.2))\n",
    "model.add(Dense(128,activation='relu'))\n",
    "model.add(Dropout(0.2))\n",
    "model.add(Dense(num_classes,activation='softmax'))"
   ]
  },
  {
   "cell_type": "code",
   "execution_count": 30,
   "metadata": {},
   "outputs": [],
   "source": [
    "#Compile model\n",
    "model.compile(loss='binary_crossentropy',optimizer='adam',metrics=['accuracy'])"
   ]
  },
  {
   "cell_type": "markdown",
   "metadata": {},
   "source": [
    "SUMMARY OF CNN MODEL"
   ]
  },
  {
   "cell_type": "code",
   "execution_count": 31,
   "metadata": {},
   "outputs": [
    {
     "name": "stdout",
     "output_type": "stream",
     "text": [
      "Model: \"sequential\"\n",
      "_________________________________________________________________\n",
      "Layer (type)                 Output Shape              Param #   \n",
      "=================================================================\n",
      "conv2d (Conv2D)              (None, 32, 32, 32)        896       \n",
      "_________________________________________________________________\n",
      "max_pooling2d (MaxPooling2D) (None, 16, 16, 32)        0         \n",
      "_________________________________________________________________\n",
      "conv2d_1 (Conv2D)            (None, 16, 16, 64)        18496     \n",
      "_________________________________________________________________\n",
      "max_pooling2d_1 (MaxPooling2 (None, 8, 8, 64)          0         \n",
      "_________________________________________________________________\n",
      "conv2d_2 (Conv2D)            (None, 8, 8, 128)         73856     \n",
      "_________________________________________________________________\n",
      "flatten (Flatten)            (None, 8192)              0         \n",
      "_________________________________________________________________\n",
      "dense (Dense)                (None, 512)               4194816   \n",
      "_________________________________________________________________\n",
      "dropout (Dropout)            (None, 512)               0         \n",
      "_________________________________________________________________\n",
      "dense_1 (Dense)              (None, 256)               131328    \n",
      "_________________________________________________________________\n",
      "dropout_1 (Dropout)          (None, 256)               0         \n",
      "_________________________________________________________________\n",
      "dense_2 (Dense)              (None, 128)               32896     \n",
      "_________________________________________________________________\n",
      "dropout_2 (Dropout)          (None, 128)               0         \n",
      "_________________________________________________________________\n",
      "dense_3 (Dense)              (None, 2)                 258       \n",
      "=================================================================\n",
      "Total params: 4,452,546\n",
      "Trainable params: 4,452,546\n",
      "Non-trainable params: 0\n",
      "_________________________________________________________________\n"
     ]
    }
   ],
   "source": [
    "model.summary()"
   ]
  },
  {
   "cell_type": "markdown",
   "metadata": {},
   "source": [
    "TRAIN THE CNN MODEL"
   ]
  },
  {
   "cell_type": "code",
   "execution_count": 32,
   "metadata": {},
   "outputs": [
    {
     "name": "stdout",
     "output_type": "stream",
     "text": [
      "Epoch 1/40\n",
      "200/200 [==============================] - 21s 95ms/step - loss: 0.5911 - accuracy: 0.6535 - val_loss: 0.4699 - val_accuracy: 0.7620\n",
      "Epoch 2/40\n",
      "200/200 [==============================] - 17s 85ms/step - loss: 0.3872 - accuracy: 0.8307 - val_loss: 0.3499 - val_accuracy: 0.8470\n",
      "Epoch 3/40\n",
      "200/200 [==============================] - 17s 85ms/step - loss: 0.3052 - accuracy: 0.8649 - val_loss: 0.3322 - val_accuracy: 0.8585\n",
      "Epoch 4/40\n",
      "200/200 [==============================] - 17s 85ms/step - loss: 0.2557 - accuracy: 0.8892 - val_loss: 0.2866 - val_accuracy: 0.8665\n",
      "Epoch 5/40\n",
      "200/200 [==============================] - 17s 86ms/step - loss: 0.2001 - accuracy: 0.9180 - val_loss: 0.3063 - val_accuracy: 0.8740\n",
      "Epoch 6/40\n",
      "200/200 [==============================] - 19s 96ms/step - loss: 0.1947 - accuracy: 0.9212 - val_loss: 0.2984 - val_accuracy: 0.8815\n",
      "Epoch 7/40\n",
      "200/200 [==============================] - 19s 95ms/step - loss: 0.1395 - accuracy: 0.9452 - val_loss: 0.2855 - val_accuracy: 0.8810\n",
      "Epoch 8/40\n",
      "200/200 [==============================] - 19s 96ms/step - loss: 0.1015 - accuracy: 0.9595 - val_loss: 0.3499 - val_accuracy: 0.8860\n",
      "Epoch 9/40\n",
      "200/200 [==============================] - 19s 95ms/step - loss: 0.0859 - accuracy: 0.9665 - val_loss: 0.3332 - val_accuracy: 0.8885\n",
      "Epoch 10/40\n",
      "200/200 [==============================] - 19s 95ms/step - loss: 0.0622 - accuracy: 0.9777 - val_loss: 0.3379 - val_accuracy: 0.8860\n",
      "Epoch 11/40\n",
      "200/200 [==============================] - 19s 94ms/step - loss: 0.0495 - accuracy: 0.9827 - val_loss: 0.4592 - val_accuracy: 0.8890\n",
      "Epoch 12/40\n",
      "200/200 [==============================] - 19s 94ms/step - loss: 0.0430 - accuracy: 0.9848 - val_loss: 0.4043 - val_accuracy: 0.9015\n",
      "Epoch 13/40\n",
      "200/200 [==============================] - 19s 93ms/step - loss: 0.0371 - accuracy: 0.9851 - val_loss: 0.4580 - val_accuracy: 0.8890\n",
      "Epoch 14/40\n",
      "200/200 [==============================] - 19s 94ms/step - loss: 0.0390 - accuracy: 0.9885 - val_loss: 0.5738 - val_accuracy: 0.8860\n",
      "Epoch 15/40\n",
      "200/200 [==============================] - 19s 95ms/step - loss: 0.0263 - accuracy: 0.9905 - val_loss: 0.5974 - val_accuracy: 0.8755\n",
      "Epoch 16/40\n",
      "200/200 [==============================] - 19s 94ms/step - loss: 0.0440 - accuracy: 0.9878 - val_loss: 0.5191 - val_accuracy: 0.8820\n",
      "Epoch 17/40\n",
      "200/200 [==============================] - 19s 93ms/step - loss: 0.0252 - accuracy: 0.9922 - val_loss: 0.5411 - val_accuracy: 0.8950\n",
      "Epoch 18/40\n",
      "200/200 [==============================] - 19s 94ms/step - loss: 0.0171 - accuracy: 0.9947 - val_loss: 0.4151 - val_accuracy: 0.9005\n",
      "Epoch 19/40\n",
      "200/200 [==============================] - 19s 94ms/step - loss: 0.0078 - accuracy: 0.9980 - val_loss: 0.4199 - val_accuracy: 0.8820\n",
      "Epoch 20/40\n",
      "200/200 [==============================] - 19s 95ms/step - loss: 0.0253 - accuracy: 0.9908 - val_loss: 0.5597 - val_accuracy: 0.8820\n",
      "Epoch 21/40\n",
      "200/200 [==============================] - 19s 93ms/step - loss: 0.0198 - accuracy: 0.9922 - val_loss: 0.5837 - val_accuracy: 0.8650\n",
      "Epoch 22/40\n",
      "200/200 [==============================] - 19s 93ms/step - loss: 0.0137 - accuracy: 0.9952 - val_loss: 0.5942 - val_accuracy: 0.8910\n",
      "Epoch 23/40\n",
      "200/200 [==============================] - 19s 94ms/step - loss: 0.0143 - accuracy: 0.9942 - val_loss: 0.5312 - val_accuracy: 0.8805\n",
      "Epoch 24/40\n",
      "200/200 [==============================] - 18s 92ms/step - loss: 0.0234 - accuracy: 0.9924 - val_loss: 0.8093 - val_accuracy: 0.8910\n",
      "Epoch 25/40\n",
      "200/200 [==============================] - 19s 93ms/step - loss: 0.0153 - accuracy: 0.9947 - val_loss: 0.6150 - val_accuracy: 0.8735\n",
      "Epoch 26/40\n",
      "200/200 [==============================] - 19s 93ms/step - loss: 0.0168 - accuracy: 0.9950 - val_loss: 0.7538 - val_accuracy: 0.9030\n",
      "Epoch 27/40\n",
      "200/200 [==============================] - 18s 92ms/step - loss: 0.0071 - accuracy: 0.9982 - val_loss: 0.5559 - val_accuracy: 0.8900\n",
      "Epoch 28/40\n",
      "200/200 [==============================] - 18s 92ms/step - loss: 0.0191 - accuracy: 0.9924 - val_loss: 0.5946 - val_accuracy: 0.8940\n",
      "Epoch 29/40\n",
      "200/200 [==============================] - 18s 92ms/step - loss: 0.0138 - accuracy: 0.9954 - val_loss: 0.7483 - val_accuracy: 0.8965\n",
      "Epoch 30/40\n",
      "200/200 [==============================] - 19s 93ms/step - loss: 0.0152 - accuracy: 0.9957 - val_loss: 0.5180 - val_accuracy: 0.8860\n",
      "Epoch 31/40\n",
      "200/200 [==============================] - 19s 94ms/step - loss: 0.0094 - accuracy: 0.9969 - val_loss: 0.5333 - val_accuracy: 0.8890\n",
      "Epoch 32/40\n",
      "200/200 [==============================] - 19s 95ms/step - loss: 0.0096 - accuracy: 0.9969 - val_loss: 0.7723 - val_accuracy: 0.8755\n",
      "Epoch 33/40\n",
      "200/200 [==============================] - 19s 94ms/step - loss: 0.0276 - accuracy: 0.9907 - val_loss: 0.7061 - val_accuracy: 0.8945\n",
      "Epoch 34/40\n",
      "200/200 [==============================] - 19s 93ms/step - loss: 0.0094 - accuracy: 0.9964 - val_loss: 0.5696 - val_accuracy: 0.8955\n",
      "Epoch 35/40\n",
      "200/200 [==============================] - 18s 92ms/step - loss: 0.0121 - accuracy: 0.9960 - val_loss: 0.7114 - val_accuracy: 0.8905\n",
      "Epoch 36/40\n",
      "200/200 [==============================] - 18s 92ms/step - loss: 0.0080 - accuracy: 0.9965 - val_loss: 0.6843 - val_accuracy: 0.8830\n",
      "Epoch 37/40\n",
      "200/200 [==============================] - 19s 94ms/step - loss: 0.0119 - accuracy: 0.9959 - val_loss: 0.7049 - val_accuracy: 0.8770\n",
      "Epoch 38/40\n",
      "200/200 [==============================] - 18s 92ms/step - loss: 0.0185 - accuracy: 0.9939 - val_loss: 0.8353 - val_accuracy: 0.8810\n",
      "Epoch 39/40\n",
      "200/200 [==============================] - 18s 93ms/step - loss: 0.0194 - accuracy: 0.9936 - val_loss: 0.6009 - val_accuracy: 0.8775\n",
      "Epoch 40/40\n",
      "200/200 [==============================] - 19s 94ms/step - loss: 0.0162 - accuracy: 0.9952 - val_loss: 0.6011 - val_accuracy: 0.8800\n"
     ]
    }
   ],
   "source": [
    "history=model.fit(X_train,y_train,validation_data=(X_test,y_test),epochs=40,batch_size=50,verbose=1)"
   ]
  },
  {
   "cell_type": "code",
   "execution_count": 33,
   "metadata": {},
   "outputs": [
    {
     "data": {
      "text/plain": [
       "{'loss': [0.5159686207771301,\n",
       "  0.3661283552646637,\n",
       "  0.30052193999290466,\n",
       "  0.25744062662124634,\n",
       "  0.21240568161010742,\n",
       "  0.1867334246635437,\n",
       "  0.14835922420024872,\n",
       "  0.11166668683290482,\n",
       "  0.09330993890762329,\n",
       "  0.07117532938718796,\n",
       "  0.05299248546361923,\n",
       "  0.05203250050544739,\n",
       "  0.03731206804513931,\n",
       "  0.036745745688676834,\n",
       "  0.03214665502309799,\n",
       "  0.03414430096745491,\n",
       "  0.029096513986587524,\n",
       "  0.030729610472917557,\n",
       "  0.01946159079670906,\n",
       "  0.022827619686722755,\n",
       "  0.022640766575932503,\n",
       "  0.01555648073554039,\n",
       "  0.019145473837852478,\n",
       "  0.019557960331439972,\n",
       "  0.02025027759373188,\n",
       "  0.011422201991081238,\n",
       "  0.01852584071457386,\n",
       "  0.018274113535881042,\n",
       "  0.015698328614234924,\n",
       "  0.02310783602297306,\n",
       "  0.015450386330485344,\n",
       "  0.011107281781733036,\n",
       "  0.021262915804982185,\n",
       "  0.01545645296573639,\n",
       "  0.012348415330052376,\n",
       "  0.010915462858974934,\n",
       "  0.011916150338947773,\n",
       "  0.014872465282678604,\n",
       "  0.0169454887509346,\n",
       "  0.015063283033668995],\n",
       " 'accuracy': [0.7346000075340271,\n",
       "  0.8432000279426575,\n",
       "  0.8697999715805054,\n",
       "  0.8867999911308289,\n",
       "  0.911899983882904,\n",
       "  0.9243999719619751,\n",
       "  0.9412000179290771,\n",
       "  0.9549999833106995,\n",
       "  0.9642999768257141,\n",
       "  0.9731000065803528,\n",
       "  0.9810000061988831,\n",
       "  0.9818999767303467,\n",
       "  0.9854999780654907,\n",
       "  0.9886000156402588,\n",
       "  0.987500011920929,\n",
       "  0.9883000254631042,\n",
       "  0.9908000230789185,\n",
       "  0.9894999861717224,\n",
       "  0.993399977684021,\n",
       "  0.9925000071525574,\n",
       "  0.991100013256073,\n",
       "  0.9940999746322632,\n",
       "  0.9926000237464905,\n",
       "  0.9932000041007996,\n",
       "  0.9934999942779541,\n",
       "  0.9962000250816345,\n",
       "  0.9950000047683716,\n",
       "  0.9936000108718872,\n",
       "  0.995199978351593,\n",
       "  0.9927999973297119,\n",
       "  0.9945999979972839,\n",
       "  0.9965000152587891,\n",
       "  0.992900013923645,\n",
       "  0.9950000047683716,\n",
       "  0.9957000017166138,\n",
       "  0.9961000084877014,\n",
       "  0.9961000084877014,\n",
       "  0.9952999949455261,\n",
       "  0.994700014591217,\n",
       "  0.9954000115394592],\n",
       " 'val_loss': [0.4699023365974426,\n",
       "  0.3498843312263489,\n",
       "  0.33216825127601624,\n",
       "  0.28657445311546326,\n",
       "  0.30632010102272034,\n",
       "  0.29842624068260193,\n",
       "  0.2855065166950226,\n",
       "  0.34987562894821167,\n",
       "  0.3331673741340637,\n",
       "  0.3378673791885376,\n",
       "  0.45916110277175903,\n",
       "  0.40426895022392273,\n",
       "  0.45795074105262756,\n",
       "  0.5737910866737366,\n",
       "  0.5974284410476685,\n",
       "  0.5191397070884705,\n",
       "  0.5410701632499695,\n",
       "  0.4150737226009369,\n",
       "  0.41988903284072876,\n",
       "  0.5597202181816101,\n",
       "  0.5836670994758606,\n",
       "  0.5942067503929138,\n",
       "  0.5312294960021973,\n",
       "  0.8092681169509888,\n",
       "  0.6150035858154297,\n",
       "  0.7538055777549744,\n",
       "  0.5558976531028748,\n",
       "  0.594630777835846,\n",
       "  0.7483413815498352,\n",
       "  0.5179785490036011,\n",
       "  0.5332997441291809,\n",
       "  0.7723015546798706,\n",
       "  0.7060697078704834,\n",
       "  0.5696413516998291,\n",
       "  0.7113686800003052,\n",
       "  0.6842747330665588,\n",
       "  0.704947829246521,\n",
       "  0.8353176116943359,\n",
       "  0.6008886098861694,\n",
       "  0.6010979413986206],\n",
       " 'val_accuracy': [0.7620000243186951,\n",
       "  0.847000002861023,\n",
       "  0.8585000038146973,\n",
       "  0.8665000200271606,\n",
       "  0.8740000128746033,\n",
       "  0.8815000057220459,\n",
       "  0.8809999823570251,\n",
       "  0.8859999775886536,\n",
       "  0.8884999752044678,\n",
       "  0.8859999775886536,\n",
       "  0.8889999985694885,\n",
       "  0.9014999866485596,\n",
       "  0.8889999985694885,\n",
       "  0.8859999775886536,\n",
       "  0.8755000233650208,\n",
       "  0.8820000290870667,\n",
       "  0.8949999809265137,\n",
       "  0.9004999995231628,\n",
       "  0.8820000290870667,\n",
       "  0.8820000290870667,\n",
       "  0.8650000095367432,\n",
       "  0.890999972820282,\n",
       "  0.8805000185966492,\n",
       "  0.890999972820282,\n",
       "  0.8734999895095825,\n",
       "  0.902999997138977,\n",
       "  0.8899999856948853,\n",
       "  0.8939999938011169,\n",
       "  0.8964999914169312,\n",
       "  0.8859999775886536,\n",
       "  0.8889999985694885,\n",
       "  0.8755000233650208,\n",
       "  0.8945000171661377,\n",
       "  0.8955000042915344,\n",
       "  0.890500009059906,\n",
       "  0.8830000162124634,\n",
       "  0.8769999742507935,\n",
       "  0.8809999823570251,\n",
       "  0.8774999976158142,\n",
       "  0.8799999952316284]}"
      ]
     },
     "execution_count": 33,
     "metadata": {},
     "output_type": "execute_result"
    }
   ],
   "source": [
    "#Display the loss and Accuracy \n",
    "history.history"
   ]
  },
  {
   "cell_type": "markdown",
   "metadata": {},
   "source": [
    "LOSS AND ACCURACY BY PLOTTING "
   ]
  },
  {
   "cell_type": "code",
   "execution_count": 34,
   "metadata": {},
   "outputs": [],
   "source": [
    "import matplotlib.pyplot as plt"
   ]
  },
  {
   "cell_type": "code",
   "execution_count": 35,
   "metadata": {},
   "outputs": [
    {
     "data": {
      "text/plain": [
       "Text(0.5, 1.0, 'Accuracy & Validation Accuracy')"
      ]
     },
     "execution_count": 35,
     "metadata": {},
     "output_type": "execute_result"
    },
    {
     "data": {
      "image/png": "[encoded data removed]",
      "text/plain": [
       "<Figure size 432x288 with 1 Axes>"
      ]
     },
     "metadata": {
      "needs_background": "light"
     },
     "output_type": "display_data"
    }
   ],
   "source": [
    "plt.plot(history.history['accuracy'],label='Accuracy')\n",
    "plt.plot(history.history['val_accuracy'],label='Val_Accuracy')\n",
    "plt.xlabel('Epoch')\n",
    "plt.ylabel('Accuracy')\n",
    "plt.legend(loc='best')\n",
    "plt.title('Accuracy & Validation Accuracy')"
   ]
  },
  {
   "cell_type": "code",
   "execution_count": 36,
   "metadata": {},
   "outputs": [
    {
     "data": {
      "text/plain": [
       "Text(0.5, 1.0, 'Loss & Validation Loss')"
      ]
     },
     "execution_count": 36,
     "metadata": {},
     "output_type": "execute_result"
    },
    {
     "data": {
      "image/png": "[encoded data removed]",
      "text/plain": [
       "<Figure size 432x288 with 1 Axes>"
      ]
     },
     "metadata": {
      "needs_background": "light"
     },
     "output_type": "display_data"
    }
   ],
   "source": [
    "plt.plot(history.history['loss'],label='Loss')\n",
    "plt.plot(history.history['val_loss'],label='Val_Loss')\n",
    "plt.xlabel('Epoch')\n",
    "plt.ylabel('Loss')\n",
    "plt.legend(loc='best')\n",
    "plt.title('Loss & Validation Loss')"
   ]
  },
  {
   "cell_type": "markdown",
   "metadata": {},
   "source": [
    "MAKING PREDICTION"
   ]
  },
  {
   "cell_type": "code",
   "execution_count": 37,
   "metadata": {},
   "outputs": [],
   "source": [
    "predicted=model.predict(X_test)"
   ]
  },
  {
   "cell_type": "code",
   "execution_count": 38,
   "metadata": {},
   "outputs": [
    {
     "data": {
      "image/png": "[encoded data removed]",
      "text/plain": [
       "<Figure size 432x288 with 1 Axes>"
      ]
     },
     "metadata": {
      "needs_background": "light"
     },
     "output_type": "display_data"
    }
   ],
   "source": [
    "ind=530\n",
    "sample_image=X_test[ind]\n",
    "r1=np.argmax(y_test[ind])\n",
    "if r1==0:\n",
    "    rlabel='Deer'\n",
    "else:\n",
    "    rlabel='Horse'\n",
    "p1=np.argmax(predicted[ind])\n",
    "if p1==0:\n",
    "    plabel='Deer'\n",
    "else:\n",
    "    plabel='Horse'\n",
    "pixels=sample_image.reshape((32,32,3))\n",
    "plt.imshow(pixels)\n",
    "plt.title(rlabel)\n",
    "plt.show()"
   ]
  },
  {
   "cell_type": "code",
   "execution_count": 40,
   "metadata": {},
   "outputs": [
    {
     "name": "stdout",
     "output_type": "stream",
     "text": [
      "Real Label:Horse\n",
      "PredictedLabel:Horse\n"
     ]
    }
   ],
   "source": [
    "print('Real Label:{}'.format(rlabel))\n",
    "print('PredictedLabel:{}'.format(plabel))"
   ]
  },
  {
   "cell_type": "code",
   "execution_count": 41,
   "metadata": {},
   "outputs": [
    {
     "data": {
      "text/plain": [
       "array([1, 1, 0, ..., 1, 1, 1], dtype=int64)"
      ]
     },
     "execution_count": 41,
     "metadata": {},
     "output_type": "execute_result"
    }
   ],
   "source": [
    "labels_test_predicted=np.argmax(predicted,1)\n",
    "labels_test_predicted"
   ]
  },
  {
   "cell_type": "markdown",
   "metadata": {},
   "source": [
    "CONFUSION MATRIX OF PREDICTION ON TEST SET"
   ]
  },
  {
   "cell_type": "code",
   "execution_count": 46,
   "metadata": {},
   "outputs": [
    {
     "data": {
      "text/html": [
       "<div>\n",
       "<style scoped>\n",
       "    .dataframe tbody tr th:only-of-type {\n",
       "        vertical-align: middle;\n",
       "    }\n",
       "\n",
       "    .dataframe tbody tr th {\n",
       "        vertical-align: top;\n",
       "    }\n",
       "\n",
       "    .dataframe thead th {\n",
       "        text-align: right;\n",
       "    }\n",
       "</style>\n",
       "<table border=\"1\" class=\"dataframe\">\n",
       "  <thead>\n",
       "    <tr style=\"text-align: right;\">\n",
       "      <th>col_0</th>\n",
       "      <th>0</th>\n",
       "      <th>1</th>\n",
       "    </tr>\n",
       "    <tr>\n",
       "      <th>row_0</th>\n",
       "      <th></th>\n",
       "      <th></th>\n",
       "    </tr>\n",
       "  </thead>\n",
       "  <tbody>\n",
       "    <tr>\n",
       "      <th>0</th>\n",
       "      <td>928</td>\n",
       "      <td>72</td>\n",
       "    </tr>\n",
       "    <tr>\n",
       "      <th>1</th>\n",
       "      <td>168</td>\n",
       "      <td>832</td>\n",
       "    </tr>\n",
       "  </tbody>\n",
       "</table>\n",
       "</div>"
      ],
      "text/plain": [
       "col_0    0    1\n",
       "row_0          \n",
       "0      928   72\n",
       "1      168  832"
      ]
     },
     "execution_count": 46,
     "metadata": {},
     "output_type": "execute_result"
    }
   ],
   "source": [
    "pd.crosstab(np.argmax(y_test,axis=1),labels_test_predicted)"
   ]
  },
  {
   "cell_type": "markdown",
   "metadata": {},
   "source": [
    "EVALUTAION OF TEST DATA SET"
   ]
  },
  {
   "cell_type": "code",
   "execution_count": 44,
   "metadata": {},
   "outputs": [
    {
     "name": "stdout",
     "output_type": "stream",
     "text": [
      "63/63 [==============================] - 2s 26ms/step - loss: 0.6011 - accuracy: 0.8800 \n",
      "Test Loss: 0.6010979413986206\n",
      "Test Accuracy: 0.8799999952316284\n"
     ]
    }
   ],
   "source": [
    "score=model.evaluate(X_test,y_test,verbose=1)\n",
    "print('Test Loss:',score[0])\n",
    "print('Test Accuracy:',score[1])"
   ]
  }
 ],
 "metadata": {
  "kernelspec": {
   "display_name": "Python 3",
   "language": "python",
   "name": "python3"
  },
  "language_info": {
   "codemirror_mode": {
    "name": "ipython",
    "version": 3
   },
   "file_extension": ".py",
   "mimetype": "text/x-python",
   "name": "python",
   "nbconvert_exporter": "python",
   "pygments_lexer": "ipython3",
   "version": "3.8.5"
  }
 },
 "nbformat": 4,
 "nbformat_minor": 4
}
